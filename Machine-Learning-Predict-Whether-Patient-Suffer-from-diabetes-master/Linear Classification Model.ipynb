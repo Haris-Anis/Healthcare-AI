{
 "cells": [
  {
   "cell_type": "markdown",
   "metadata": {},
   "source": [
    "# Linear Classifier Model usng Tensorflow in 5 Steps"
   ]
  },
  {
   "cell_type": "markdown",
   "metadata": {},
   "source": [
    "# Step 1:"
   ]
  },
  {
   "cell_type": "markdown",
   "metadata": {},
   "source": [
    "### import modules"
   ]
  },
  {
   "cell_type": "code",
   "execution_count": 2,
   "metadata": {},
   "outputs": [],
   "source": [
    "import tensorflow as tf\n",
    "\n",
    "import numpy as np\n",
    "import pandas as pd\n",
    "\n",
    "import matplotlib.pyplot as plt\n",
    "\n",
    "from sklearn.model_selection import train_test_split\n",
    "from sklearn.metrics import confusion_matrix,classification_report\n",
    "import scikitplot as skplt\n",
    "\n",
    "%matplotlib inline"
   ]
  },
  {
   "cell_type": "markdown",
   "metadata": {},
   "source": [
    "# Step 2:"
   ]
  },
  {
   "cell_type": "markdown",
   "metadata": {},
   "source": [
    "### process data"
   ]
  },
  {
   "cell_type": "code",
   "execution_count": 3,
   "metadata": {},
   "outputs": [],
   "source": [
    "def Data_Process():\n",
    "    \n",
    "    \"\"\"\n",
    "    This will read the CSV and Normalize the Data and\n",
    "    Perform Train Test Split and Return\n",
    "    X_Train, X_Test, Y_Train, Y_Test\n",
    "    \n",
    "    \"\"\"\n",
    "    # Name for the column  or Features Map\n",
    "    columns_to_named = [\"Pregnancies\",\"Glucose\",\"BloodPressure\",\n",
    "           \"SkinThickness\",\"Insulin\",\"BMI\",\"DiabetesPedigreeFunction\",\n",
    "           \"Age\",\"Class\"]\n",
    "    \n",
    "    # Read the Dataset and Rename the Column\n",
    "    df = pd.read_csv(\"diabetes.csv\",header=0,names=columns_to_named)\n",
    "\n",
    "    col_norm =['Pregnancies', 'Glucose', 'BloodPressure', 'SkinThickness', 'Insulin',\n",
    "       'BMI', 'DiabetesPedigreeFunction']\n",
    "    \n",
    "    # Normalization using Custom Lambda Function\n",
    "    \n",
    "    df1_norm = df[col_norm].apply(lambda x :( (x - x.min()) / (x.max()-x.min()) ) )\n",
    "    \n",
    "    X_Data = df1_norm\n",
    "    Y_Data = df[\"Class\"]\n",
    "    \n",
    "    X_Train, X_Test, Y_Train, Y_Test = train_test_split(X_Data,Y_Data, test_size=0.3,random_state=101)\n",
    "    \n",
    "    return X_Train, X_Test, Y_Train, Y_Test"
   ]
  },
  {
   "cell_type": "markdown",
   "metadata": {},
   "source": [
    "# Step 3:"
   ]
  },
  {
   "cell_type": "markdown",
   "metadata": {},
   "source": [
    "### Define Feature Columns"
   ]
  },
  {
   "cell_type": "code",
   "execution_count": 4,
   "metadata": {},
   "outputs": [],
   "source": [
    "def create_feature_column():\n",
    "    \n",
    "    feat_Pregnancies = tf.feature_column.numeric_column('Pregnancies')\n",
    "    feat_Glucose = tf.feature_column.numeric_column('Glucose')\n",
    "    feat_BloodPressure = tf.feature_column.numeric_column('BloodPressure')\n",
    "    feat_SkinThickness_tricep = tf.feature_column.numeric_column('SkinThickness')\n",
    "    feat_Insulin = tf.feature_column.numeric_column('Insulin')\n",
    "    feat_BMI = tf.feature_column.numeric_column('BMI')\n",
    "    feat_DiabetesPedigreeFunction  = tf.feature_column.numeric_column('DiabetesPedigreeFunction')\n",
    "    \n",
    "    feature_column = [feat_Pregnancies, feat_Glucose, feat_BloodPressure, \n",
    "                  feat_SkinThickness_tricep, feat_Insulin, \n",
    "                 feat_BMI , feat_DiabetesPedigreeFunction] \n",
    "    \n",
    "    return feature_column"
   ]
  },
  {
   "cell_type": "markdown",
   "metadata": {},
   "source": [
    "### Create Input Function and Test Function"
   ]
  },
  {
   "cell_type": "code",
   "execution_count": 5,
   "metadata": {},
   "outputs": [],
   "source": [
    "X_Train, X_Test, Y_Train, Y_Test = Data_Process()\n",
    "feature_column = create_feature_column()\n",
    "\n",
    "input_func = tf.estimator.inputs.pandas_input_fn(x=X_Train, y=Y_Train,\n",
    "                                                 batch_size=40,num_epochs =100, \n",
    "                                                 shuffle=True)\n",
    "\n",
    "eval_input_func = tf.estimator.inputs.pandas_input_fn(x=X_Test,\n",
    "                                                      y=Y_Test,\n",
    "                                                      batch_size=40,\n",
    "                                                      num_epochs=1,\n",
    "                                                      shuffle=False)\n",
    "\n",
    "predict_input_fn = tf.estimator.inputs.pandas_input_fn(\n",
    "      x=X_Test,\n",
    "      num_epochs=1,\n",
    "      shuffle=False)"
   ]
  },
  {
   "cell_type": "markdown",
   "metadata": {},
   "source": [
    "# Step 4 :"
   ]
  },
  {
   "cell_type": "markdown",
   "metadata": {},
   "source": [
    "### Create Linear Classifier Model"
   ]
  },
  {
   "cell_type": "code",
   "execution_count": 6,
   "metadata": {},
   "outputs": [
    {
     "name": "stdout",
     "output_type": "stream",
     "text": [
      "INFO:tensorflow:Using default config.\n",
      "WARNING:tensorflow:Using temporary folder as model directory: C:\\Users\\Haris\\AppData\\Local\\Temp\\tmpb6viy5cv\n",
      "INFO:tensorflow:Using config: {'_model_dir': 'C:\\\\Users\\\\Haris\\\\AppData\\\\Local\\\\Temp\\\\tmpb6viy5cv', '_tf_random_seed': None, '_save_summary_steps': 100, '_save_checkpoints_steps': None, '_save_checkpoints_secs': 600, '_session_config': allow_soft_placement: true\n",
      "graph_options {\n",
      "  rewrite_options {\n",
      "    meta_optimizer_iterations: ONE\n",
      "  }\n",
      "}\n",
      ", '_keep_checkpoint_max': 5, '_keep_checkpoint_every_n_hours': 10000, '_log_step_count_steps': 100, '_train_distribute': None, '_device_fn': None, '_protocol': None, '_eval_distribute': None, '_experimental_distribute': None, '_service': None, '_cluster_spec': <tensorflow.python.training.server_lib.ClusterSpec object at 0x000001BDC78A69E8>, '_task_type': 'worker', '_task_id': 0, '_global_id_in_cluster': 0, '_master': '', '_evaluation_master': '', '_is_chief': True, '_num_ps_replicas': 0, '_num_worker_replicas': 1}\n"
     ]
    }
   ],
   "source": [
    "model = tf.estimator.LinearClassifier(feature_columns=feature_column, \n",
    "                                      n_classes=2)"
   ]
  },
  {
   "cell_type": "markdown",
   "metadata": {},
   "source": [
    "# Step 5:"
   ]
  },
  {
   "cell_type": "markdown",
   "metadata": {},
   "source": [
    "### Train "
   ]
  },
  {
   "cell_type": "code",
   "execution_count": 7,
   "metadata": {},
   "outputs": [
    {
     "name": "stdout",
     "output_type": "stream",
     "text": [
      "WARNING:tensorflow:From C:\\Users\\Haris\\Anaconda32\\lib\\site-packages\\tensorflow\\python\\framework\\op_def_library.py:263: colocate_with (from tensorflow.python.framework.ops) is deprecated and will be removed in a future version.\n",
      "Instructions for updating:\n",
      "Colocations handled automatically by placer.\n",
      "WARNING:tensorflow:From C:\\Users\\Haris\\Anaconda32\\lib\\site-packages\\tensorflow_estimator\\python\\estimator\\inputs\\queues\\feeding_queue_runner.py:62: QueueRunner.__init__ (from tensorflow.python.training.queue_runner_impl) is deprecated and will be removed in a future version.\n",
      "Instructions for updating:\n",
      "To construct input pipelines, use the `tf.data` module.\n",
      "WARNING:tensorflow:From C:\\Users\\Haris\\Anaconda32\\lib\\site-packages\\tensorflow_estimator\\python\\estimator\\inputs\\queues\\feeding_functions.py:500: add_queue_runner (from tensorflow.python.training.queue_runner_impl) is deprecated and will be removed in a future version.\n",
      "Instructions for updating:\n",
      "To construct input pipelines, use the `tf.data` module.\n",
      "INFO:tensorflow:Calling model_fn.\n",
      "WARNING:tensorflow:From C:\\Users\\Haris\\Anaconda32\\lib\\site-packages\\tensorflow\\python\\feature_column\\feature_column_v2.py:2703: to_float (from tensorflow.python.ops.math_ops) is deprecated and will be removed in a future version.\n",
      "Instructions for updating:\n",
      "Use tf.cast instead.\n",
      "INFO:tensorflow:Done calling model_fn.\n",
      "INFO:tensorflow:Create CheckpointSaverHook.\n",
      "INFO:tensorflow:Graph was finalized.\n",
      "INFO:tensorflow:Running local_init_op.\n",
      "INFO:tensorflow:Done running local_init_op.\n",
      "WARNING:tensorflow:From C:\\Users\\Haris\\Anaconda32\\lib\\site-packages\\tensorflow\\python\\training\\monitored_session.py:809: start_queue_runners (from tensorflow.python.training.queue_runner_impl) is deprecated and will be removed in a future version.\n",
      "Instructions for updating:\n",
      "To construct input pipelines, use the `tf.data` module.\n",
      "INFO:tensorflow:Saving checkpoints for 0 into C:\\Users\\Haris\\AppData\\Local\\Temp\\tmpb6viy5cv\\model.ckpt.\n",
      "INFO:tensorflow:loss = 27.725887, step = 1\n",
      "INFO:tensorflow:global_step/sec: 134.088\n",
      "INFO:tensorflow:loss = 21.619835, step = 101 (0.777 sec)\n",
      "INFO:tensorflow:global_step/sec: 230.152\n",
      "INFO:tensorflow:loss = 22.611423, step = 201 (0.406 sec)\n",
      "INFO:tensorflow:global_step/sec: 227.409\n",
      "INFO:tensorflow:loss = 21.185658, step = 301 (0.428 sec)\n",
      "INFO:tensorflow:global_step/sec: 242.747\n",
      "INFO:tensorflow:loss = 20.637032, step = 401 (0.412 sec)\n",
      "INFO:tensorflow:global_step/sec: 265.994\n",
      "INFO:tensorflow:loss = 17.976597, step = 501 (0.384 sec)\n",
      "INFO:tensorflow:global_step/sec: 221.93\n",
      "INFO:tensorflow:loss = 20.792702, step = 601 (0.448 sec)\n",
      "INFO:tensorflow:global_step/sec: 249.954\n",
      "INFO:tensorflow:loss = 21.326145, step = 701 (0.418 sec)\n",
      "INFO:tensorflow:global_step/sec: 239.669\n",
      "INFO:tensorflow:loss = 19.496624, step = 801 (0.399 sec)\n",
      "INFO:tensorflow:global_step/sec: 234.164\n",
      "INFO:tensorflow:loss = 25.634808, step = 901 (0.430 sec)\n",
      "INFO:tensorflow:Saving checkpoints for 1000 into C:\\Users\\Haris\\AppData\\Local\\Temp\\tmpb6viy5cv\\model.ckpt.\n",
      "INFO:tensorflow:Loss for final step: 21.843681.\n"
     ]
    }
   ],
   "source": [
    "history = model.train(input_fn=input_func, steps = 1000)"
   ]
  },
  {
   "cell_type": "markdown",
   "metadata": {},
   "source": [
    "### Test"
   ]
  },
  {
   "cell_type": "code",
   "execution_count": 8,
   "metadata": {},
   "outputs": [
    {
     "name": "stdout",
     "output_type": "stream",
     "text": [
      "INFO:tensorflow:Calling model_fn.\n",
      "WARNING:tensorflow:From C:\\Users\\Haris\\Anaconda32\\lib\\site-packages\\tensorflow\\python\\ops\\metrics_impl.py:2002: div (from tensorflow.python.ops.math_ops) is deprecated and will be removed in a future version.\n",
      "Instructions for updating:\n",
      "Deprecated in favor of operator or tf.math.divide.\n",
      "WARNING:tensorflow:Trapezoidal rule is known to produce incorrect PR-AUCs; please switch to \"careful_interpolation\" instead.\n",
      "WARNING:tensorflow:Trapezoidal rule is known to produce incorrect PR-AUCs; please switch to \"careful_interpolation\" instead.\n",
      "INFO:tensorflow:Done calling model_fn.\n",
      "INFO:tensorflow:Starting evaluation at 2019-10-06T09:52:52Z\n",
      "INFO:tensorflow:Graph was finalized.\n",
      "WARNING:tensorflow:From C:\\Users\\Haris\\Anaconda32\\lib\\site-packages\\tensorflow\\python\\training\\saver.py:1266: checkpoint_exists (from tensorflow.python.training.checkpoint_management) is deprecated and will be removed in a future version.\n",
      "Instructions for updating:\n",
      "Use standard file APIs to check for files with this prefix.\n",
      "INFO:tensorflow:Restoring parameters from C:\\Users\\Haris\\AppData\\Local\\Temp\\tmpb6viy5cv\\model.ckpt-1000\n",
      "INFO:tensorflow:Running local_init_op.\n",
      "INFO:tensorflow:Done running local_init_op.\n",
      "INFO:tensorflow:Finished evaluation at 2019-10-06-09:52:55\n",
      "INFO:tensorflow:Saving dict for global step 1000: accuracy = 0.74025977, accuracy_baseline = 0.64935064, auc = 0.77234566, auc_precision_recall = 0.64902675, average_loss = 0.55138403, global_step = 1000, label/mean = 0.35064936, loss = 21.228285, precision = 0.7234042, prediction/mean = 0.35791287, recall = 0.41975307\n",
      "INFO:tensorflow:Saving 'checkpoint_path' summary for global step 1000: C:\\Users\\Haris\\AppData\\Local\\Temp\\tmpb6viy5cv\\model.ckpt-1000\n"
     ]
    }
   ],
   "source": [
    "results = model.evaluate(eval_input_func)"
   ]
  },
  {
   "cell_type": "code",
   "execution_count": 9,
   "metadata": {
    "scrolled": false
   },
   "outputs": [
    {
     "data": {
      "text/plain": [
       "0.74025977"
      ]
     },
     "execution_count": 9,
     "metadata": {},
     "output_type": "execute_result"
    }
   ],
   "source": [
    "results[\"accuracy\"]"
   ]
  },
  {
   "cell_type": "markdown",
   "metadata": {},
   "source": [
    "### predict"
   ]
  },
  {
   "cell_type": "code",
   "execution_count": 10,
   "metadata": {},
   "outputs": [
    {
     "name": "stdout",
     "output_type": "stream",
     "text": [
      "INFO:tensorflow:Calling model_fn.\n",
      "INFO:tensorflow:Done calling model_fn.\n",
      "INFO:tensorflow:Graph was finalized.\n",
      "INFO:tensorflow:Restoring parameters from C:\\Users\\Haris\\AppData\\Local\\Temp\\tmpb6viy5cv\\model.ckpt-1000\n",
      "INFO:tensorflow:Running local_init_op.\n",
      "INFO:tensorflow:Done running local_init_op.\n"
     ]
    }
   ],
   "source": [
    "predictions = list(model.predict(input_fn=predict_input_fn))\n",
    "prediction = [p[\"class_ids\"][0] for p in predictions]\n",
    "data = classification_report(Y_Test,prediction)\n",
    "conmat = confusion_matrix(Y_Test,prediction)"
   ]
  },
  {
   "cell_type": "code",
   "execution_count": 11,
   "metadata": {},
   "outputs": [
    {
     "data": {
      "text/plain": [
       "<matplotlib.axes._subplots.AxesSubplot at 0x1bdc8f1c978>"
      ]
     },
     "execution_count": 11,
     "metadata": {},
     "output_type": "execute_result"
    },
    {
     "data": {
      "image/png": "[encoded data removed]",
      "text/plain": [
       "<Figure size 432x432 with 2 Axes>"
      ]
     },
     "metadata": {
      "needs_background": "light"
     },
     "output_type": "display_data"
    }
   ],
   "source": [
    "skplt.metrics.plot_confusion_matrix(Y_Test, \n",
    "                                    prediction,\n",
    "                                   figsize=(6,6),\n",
    "                                   title=\"Confusion Matrix\")"
   ]
  },
  {
   "cell_type": "code",
   "execution_count": 12,
   "metadata": {},
   "outputs": [
    {
     "name": "stdout",
     "output_type": "stream",
     "text": [
      "              precision    recall  f1-score   support\n",
      "\n",
      "           0       0.74      0.91      0.82       150\n",
      "           1       0.72      0.42      0.53        81\n",
      "\n",
      "    accuracy                           0.74       231\n",
      "   macro avg       0.73      0.67      0.68       231\n",
      "weighted avg       0.74      0.74      0.72       231\n",
      "\n"
     ]
    }
   ],
   "source": [
    "print(data)"
   ]
  },
  {
   "cell_type": "code",
   "execution_count": null,
   "metadata": {},
   "outputs": [],
   "source": []
  }
 ],
 "metadata": {
  "kernelspec": {
   "display_name": "Python 3",
   "language": "python",
   "name": "python3"
  },
  "language_info": {
   "codemirror_mode": {
    "name": "ipython",
    "version": 3
   },
   "file_extension": ".py",
   "mimetype": "text/x-python",
   "name": "python",
   "nbconvert_exporter": "python",
   "pygments_lexer": "ipython3",
   "version": "3.7.1"
  }
 },
 "nbformat": 4,
 "nbformat_minor": 2
}
