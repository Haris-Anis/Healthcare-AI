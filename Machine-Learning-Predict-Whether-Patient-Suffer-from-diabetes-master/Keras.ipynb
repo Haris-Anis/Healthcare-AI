{
 "cells": [
  {
   "cell_type": "markdown",
   "metadata": {},
   "source": [
    "# Step 1:"
   ]
  },
  {
   "cell_type": "markdown",
   "metadata": {},
   "source": [
    "###  import library"
   ]
  },
  {
   "cell_type": "markdown",
   "metadata": {},
   "source": [
    "# Step 2:"
   ]
  },
  {
   "cell_type": "markdown",
   "metadata": {},
   "source": [
    "### Process Data"
   ]
  },
  {
   "cell_type": "markdown",
   "metadata": {},
   "source": [
    "import tensorflow as tf\n",
    "\n",
    "import numpy as np\n",
    "import pandas as pd\n",
    "\n",
    "import matplotlib.pyplot as plt\n",
    "%matplotlib inline\n",
    "\n",
    "from sklearn.model_selection import train_test_split\n",
    "from sklearn.metrics import confusion_matrix,classification_report\n",
    "import scikitplot as skplt\n",
    "\n",
    "from keras.models import Sequential\n",
    "from keras.layers import Dense\n",
    "from keras.callbacks import ModelCheckpoint"
   ]
  },
  {
   "cell_type": "code",
   "execution_count": 1,
   "metadata": {},
   "outputs": [
    {
     "name": "stderr",
     "output_type": "stream",
     "text": [
      "Using TensorFlow backend.\n"
     ]
    }
   ],
   "source": [
    "import tensorflow as tf\n",
    "\n",
    "import numpy as np\n",
    "import pandas as pd\n",
    "\n",
    "import matplotlib.pyplot as plt\n",
    "%matplotlib inline\n",
    "\n",
    "from sklearn.model_selection import train_test_split\n",
    "from sklearn.metrics import confusion_matrix,classification_report\n",
    "import scikitplot as skplt\n",
    "\n",
    "%matplotlib inline\n",
    "\n",
    "from keras.models import Sequential\n",
    "from keras.layers import Dense\n",
    "from keras.callbacks import ModelCheckpoint"
   ]
  },
  {
   "cell_type": "code",
   "execution_count": 2,
   "metadata": {},
   "outputs": [],
   "source": [
    "def Data_Process():\n",
    "    \n",
    "    \"\"\"\n",
    "    This will read the CSV and Normalize the Data and\n",
    "    Perform Train Test Split and Return\n",
    "    X_Train, X_Test, Y_Train, Y_Test\n",
    "    \n",
    "    \"\"\"\n",
    "    # Name for the column  or Features Map\n",
    "    columns_to_named = [\"Pregnancies\",\"Glucose\",\"BloodPressure\",\n",
    "           \"SkinThickness\",\"Insulin\",\"BMI\",\"DiabetesPedigreeFunction\",\n",
    "           \"Age\",\"Class\"]\n",
    "    \n",
    "    # Read the Dataset and Rename the Column\n",
    "    df = pd.read_csv(\"diabetes.csv\",header=0,names=columns_to_named)\n",
    "\n",
    "    col_norm =['Pregnancies', 'Glucose', 'BloodPressure', 'SkinThickness', 'Insulin',\n",
    "       'BMI', 'DiabetesPedigreeFunction','Age']\n",
    "    \n",
    "    # Normalization using Custom Lambda Function\n",
    "    \n",
    "    df1_norm = df[col_norm].apply(lambda x :( (x - x.min()) / (x.max()-x.min()) ) )\n",
    "    \n",
    "    X_Data = df1_norm\n",
    "    Y_Data = df[\"Class\"]\n",
    "    \n",
    "    X_Train, X_Test, Y_Train, Y_Test = train_test_split(X_Data,Y_Data, test_size=0.3,random_state=101)\n",
    "    \n",
    "    return X_Train, X_Test, Y_Train, Y_Test"
   ]
  },
  {
   "cell_type": "code",
   "execution_count": 3,
   "metadata": {},
   "outputs": [
    {
     "data": {
      "text/plain": [
       "(536, 8)"
      ]
     },
     "execution_count": 3,
     "metadata": {},
     "output_type": "execute_result"
    }
   ],
   "source": [
    "X_Train, X_Test, Y_Train, Y_Test = Data_Process()\n",
    "X_Train.shape"
   ]
  },
  {
   "cell_type": "markdown",
   "metadata": {},
   "source": [
    "# Step 3:"
   ]
  },
  {
   "cell_type": "markdown",
   "metadata": {},
   "source": [
    "### Create Model"
   ]
  },
  {
   "cell_type": "code",
   "execution_count": 4,
   "metadata": {},
   "outputs": [
    {
     "name": "stdout",
     "output_type": "stream",
     "text": [
      "WARNING:tensorflow:From C:\\Users\\Haris\\Anaconda32\\lib\\site-packages\\tensorflow\\python\\framework\\op_def_library.py:263: colocate_with (from tensorflow.python.framework.ops) is deprecated and will be removed in a future version.\n",
      "Instructions for updating:\n",
      "Colocations handled automatically by placer.\n"
     ]
    },
    {
     "name": "stderr",
     "output_type": "stream",
     "text": [
      "C:\\Users\\Haris\\Anaconda32\\lib\\site-packages\\ipykernel_launcher.py:2: UserWarning: Update your `Dense` call to the Keras 2 API: `Dense(12, input_dim=8, activation=\"relu\", kernel_initializer=\"uniform\")`\n",
      "  \n",
      "C:\\Users\\Haris\\Anaconda32\\lib\\site-packages\\ipykernel_launcher.py:4: UserWarning: Update your `Dense` call to the Keras 2 API: `Dense(10, activation=\"relu\", kernel_initializer=\"uniform\")`\n",
      "  after removing the cwd from sys.path.\n",
      "C:\\Users\\Haris\\Anaconda32\\lib\\site-packages\\ipykernel_launcher.py:6: UserWarning: Update your `Dense` call to the Keras 2 API: `Dense(1, activation=\"sigmoid\", kernel_initializer=\"uniform\")`\n",
      "  \n"
     ]
    }
   ],
   "source": [
    "model = Sequential()\n",
    "model.add(Dense(12, input_dim=8, init='uniform', activation='relu'))\n",
    "# 2nd layer: 8 nodes, RELU\n",
    "model.add(Dense(10, init='uniform', activation='relu'))\n",
    "# output layer: dim=1, activation sigmoid\n",
    "model.add(Dense(1, init='uniform', activation='sigmoid' ))\n",
    "\n",
    "\n",
    "model.compile(loss='binary_crossentropy', optimizer='adam', metrics=['accuracy'])"
   ]
  },
  {
   "cell_type": "markdown",
   "metadata": {},
   "source": [
    "### Train"
   ]
  },
  {
   "cell_type": "code",
   "execution_count": 5,
   "metadata": {
    "scrolled": true
   },
   "outputs": [
    {
     "name": "stdout",
     "output_type": "stream",
     "text": [
      "WARNING:tensorflow:From C:\\Users\\Haris\\Anaconda32\\lib\\site-packages\\tensorflow\\python\\ops\\math_ops.py:3066: to_int32 (from tensorflow.python.ops.math_ops) is deprecated and will be removed in a future version.\n",
      "Instructions for updating:\n",
      "Use tf.cast instead.\n",
      "Train on 536 samples, validate on 231 samples\n",
      "Epoch 1/200\n",
      " - 3s - loss: 0.6920 - acc: 0.6194 - val_loss: 0.6908 - val_acc: 0.6494\n",
      "Epoch 2/200\n",
      " - 0s - loss: 0.6892 - acc: 0.6530 - val_loss: 0.6878 - val_acc: 0.6494\n",
      "Epoch 3/200\n",
      " - 0s - loss: 0.6857 - acc: 0.6530 - val_loss: 0.6840 - val_acc: 0.6494\n",
      "Epoch 4/200\n",
      " - 0s - loss: 0.6815 - acc: 0.6530 - val_loss: 0.6789 - val_acc: 0.6494\n",
      "Epoch 5/200\n",
      " - 0s - loss: 0.6756 - acc: 0.6530 - val_loss: 0.6729 - val_acc: 0.6494\n",
      "Epoch 6/200\n",
      " - 0s - loss: 0.6682 - acc: 0.6530 - val_loss: 0.6669 - val_acc: 0.6494\n",
      "Epoch 7/200\n",
      " - 0s - loss: 0.6622 - acc: 0.6530 - val_loss: 0.6612 - val_acc: 0.6494\n",
      "Epoch 8/200\n",
      " - 0s - loss: 0.6570 - acc: 0.6530 - val_loss: 0.6583 - val_acc: 0.6494\n",
      "Epoch 9/200\n",
      " - 0s - loss: 0.6542 - acc: 0.6530 - val_loss: 0.6558 - val_acc: 0.6494\n",
      "Epoch 10/200\n",
      " - 0s - loss: 0.6517 - acc: 0.6530 - val_loss: 0.6539 - val_acc: 0.6494\n",
      "Epoch 11/200\n",
      " - 0s - loss: 0.6504 - acc: 0.6530 - val_loss: 0.6522 - val_acc: 0.6494\n",
      "Epoch 12/200\n",
      " - 0s - loss: 0.6480 - acc: 0.6530 - val_loss: 0.6503 - val_acc: 0.6494\n",
      "Epoch 13/200\n",
      " - 0s - loss: 0.6462 - acc: 0.6530 - val_loss: 0.6481 - val_acc: 0.6494\n",
      "Epoch 14/200\n",
      " - 0s - loss: 0.6446 - acc: 0.6530 - val_loss: 0.6461 - val_acc: 0.6494\n",
      "Epoch 15/200\n",
      " - 0s - loss: 0.6418 - acc: 0.6530 - val_loss: 0.6434 - val_acc: 0.6494\n",
      "Epoch 16/200\n",
      " - 0s - loss: 0.6392 - acc: 0.6530 - val_loss: 0.6408 - val_acc: 0.6494\n",
      "Epoch 17/200\n",
      " - 0s - loss: 0.6364 - acc: 0.6530 - val_loss: 0.6380 - val_acc: 0.6494\n",
      "Epoch 18/200\n",
      " - 0s - loss: 0.6334 - acc: 0.6530 - val_loss: 0.6351 - val_acc: 0.6494\n",
      "Epoch 19/200\n",
      " - 0s - loss: 0.6299 - acc: 0.6530 - val_loss: 0.6312 - val_acc: 0.6494\n",
      "Epoch 20/200\n",
      " - 0s - loss: 0.6263 - acc: 0.6530 - val_loss: 0.6273 - val_acc: 0.6494\n",
      "Epoch 21/200\n",
      " - 0s - loss: 0.6224 - acc: 0.6530 - val_loss: 0.6225 - val_acc: 0.6494\n",
      "Epoch 22/200\n",
      " - 0s - loss: 0.6177 - acc: 0.6530 - val_loss: 0.6181 - val_acc: 0.6494\n",
      "Epoch 23/200\n",
      " - 0s - loss: 0.6135 - acc: 0.6530 - val_loss: 0.6138 - val_acc: 0.6494\n",
      "Epoch 24/200\n",
      " - 0s - loss: 0.6098 - acc: 0.6530 - val_loss: 0.6099 - val_acc: 0.6494\n",
      "Epoch 25/200\n",
      " - 0s - loss: 0.6046 - acc: 0.6530 - val_loss: 0.6046 - val_acc: 0.6494\n",
      "Epoch 26/200\n",
      " - 0s - loss: 0.6000 - acc: 0.6530 - val_loss: 0.6000 - val_acc: 0.6494\n",
      "Epoch 27/200\n",
      " - 0s - loss: 0.5954 - acc: 0.6530 - val_loss: 0.5957 - val_acc: 0.6494\n",
      "Epoch 28/200\n",
      " - 0s - loss: 0.5909 - acc: 0.6530 - val_loss: 0.5916 - val_acc: 0.6494\n",
      "Epoch 29/200\n",
      " - 0s - loss: 0.5864 - acc: 0.6530 - val_loss: 0.5877 - val_acc: 0.6494\n",
      "Epoch 30/200\n",
      " - 0s - loss: 0.5817 - acc: 0.6530 - val_loss: 0.5840 - val_acc: 0.6494\n",
      "Epoch 31/200\n",
      " - 0s - loss: 0.5776 - acc: 0.6530 - val_loss: 0.5806 - val_acc: 0.6494\n",
      "Epoch 32/200\n",
      " - 0s - loss: 0.5734 - acc: 0.6530 - val_loss: 0.5768 - val_acc: 0.6494\n",
      "Epoch 33/200\n",
      " - 0s - loss: 0.5709 - acc: 0.6530 - val_loss: 0.5735 - val_acc: 0.6494\n",
      "Epoch 34/200\n",
      " - 0s - loss: 0.5658 - acc: 0.6530 - val_loss: 0.5704 - val_acc: 0.6494\n",
      "Epoch 35/200\n",
      " - 0s - loss: 0.5623 - acc: 0.6530 - val_loss: 0.5681 - val_acc: 0.6494\n",
      "Epoch 36/200\n",
      " - 0s - loss: 0.5594 - acc: 0.6530 - val_loss: 0.5653 - val_acc: 0.6494\n",
      "Epoch 37/200\n",
      " - 0s - loss: 0.5562 - acc: 0.6530 - val_loss: 0.5633 - val_acc: 0.6494\n",
      "Epoch 38/200\n",
      " - 0s - loss: 0.5537 - acc: 0.6530 - val_loss: 0.5618 - val_acc: 0.6494\n",
      "Epoch 39/200\n",
      " - 0s - loss: 0.5504 - acc: 0.6530 - val_loss: 0.5587 - val_acc: 0.6494\n",
      "Epoch 40/200\n",
      " - 0s - loss: 0.5486 - acc: 0.6530 - val_loss: 0.5575 - val_acc: 0.6494\n",
      "Epoch 41/200\n",
      " - 0s - loss: 0.5450 - acc: 0.6530 - val_loss: 0.5544 - val_acc: 0.6494\n",
      "Epoch 42/200\n",
      " - 0s - loss: 0.5432 - acc: 0.6530 - val_loss: 0.5534 - val_acc: 0.6494\n",
      "Epoch 43/200\n",
      " - 0s - loss: 0.5405 - acc: 0.6530 - val_loss: 0.5516 - val_acc: 0.6494\n",
      "Epoch 44/200\n",
      " - 0s - loss: 0.5373 - acc: 0.6530 - val_loss: 0.5497 - val_acc: 0.6494\n",
      "Epoch 45/200\n",
      " - 0s - loss: 0.5361 - acc: 0.6530 - val_loss: 0.5486 - val_acc: 0.6494\n",
      "Epoch 46/200\n",
      " - 0s - loss: 0.5339 - acc: 0.6530 - val_loss: 0.5469 - val_acc: 0.6494\n",
      "Epoch 47/200\n",
      " - 0s - loss: 0.5318 - acc: 0.6530 - val_loss: 0.5461 - val_acc: 0.6494\n",
      "Epoch 48/200\n",
      " - 0s - loss: 0.5272 - acc: 0.6530 - val_loss: 0.5453 - val_acc: 0.6494\n",
      "Epoch 49/200\n",
      " - 0s - loss: 0.5254 - acc: 0.6530 - val_loss: 0.5456 - val_acc: 0.6494\n",
      "Epoch 50/200\n",
      " - 0s - loss: 0.5256 - acc: 0.6530 - val_loss: 0.5431 - val_acc: 0.6494\n",
      "Epoch 51/200\n",
      " - 0s - loss: 0.5227 - acc: 0.6530 - val_loss: 0.5417 - val_acc: 0.6494\n",
      "Epoch 52/200\n",
      " - 0s - loss: 0.5192 - acc: 0.6549 - val_loss: 0.5420 - val_acc: 0.7446\n",
      "Epoch 53/200\n",
      " - 0s - loss: 0.5173 - acc: 0.7575 - val_loss: 0.5406 - val_acc: 0.7403\n",
      "Epoch 54/200\n",
      " - 0s - loss: 0.5162 - acc: 0.7463 - val_loss: 0.5417 - val_acc: 0.7446\n",
      "Epoch 55/200\n",
      " - 0s - loss: 0.5140 - acc: 0.7463 - val_loss: 0.5387 - val_acc: 0.7316\n",
      "Epoch 56/200\n",
      " - 0s - loss: 0.5137 - acc: 0.7705 - val_loss: 0.5387 - val_acc: 0.7359\n",
      "Epoch 57/200\n",
      " - 0s - loss: 0.5112 - acc: 0.7519 - val_loss: 0.5402 - val_acc: 0.7446\n",
      "Epoch 58/200\n",
      " - 0s - loss: 0.5091 - acc: 0.7631 - val_loss: 0.5379 - val_acc: 0.7359\n",
      "Epoch 59/200\n",
      " - 0s - loss: 0.5086 - acc: 0.7668 - val_loss: 0.5375 - val_acc: 0.7359\n",
      "Epoch 60/200\n",
      " - 0s - loss: 0.5083 - acc: 0.7575 - val_loss: 0.5389 - val_acc: 0.7359\n",
      "Epoch 61/200\n",
      " - 0s - loss: 0.5062 - acc: 0.7799 - val_loss: 0.5367 - val_acc: 0.7229\n",
      "Epoch 62/200\n",
      " - 0s - loss: 0.5046 - acc: 0.7649 - val_loss: 0.5386 - val_acc: 0.7316\n",
      "Epoch 63/200\n",
      " - 0s - loss: 0.5035 - acc: 0.7743 - val_loss: 0.5360 - val_acc: 0.7229\n",
      "Epoch 64/200\n",
      " - 0s - loss: 0.5021 - acc: 0.7780 - val_loss: 0.5378 - val_acc: 0.7273\n",
      "Epoch 65/200\n",
      " - 0s - loss: 0.5015 - acc: 0.7780 - val_loss: 0.5357 - val_acc: 0.7229\n",
      "Epoch 66/200\n",
      " - 0s - loss: 0.5026 - acc: 0.7705 - val_loss: 0.5348 - val_acc: 0.7186\n",
      "Epoch 67/200\n",
      " - 0s - loss: 0.4985 - acc: 0.7780 - val_loss: 0.5374 - val_acc: 0.7273\n",
      "Epoch 68/200\n",
      " - 0s - loss: 0.4984 - acc: 0.7743 - val_loss: 0.5404 - val_acc: 0.7316\n",
      "Epoch 69/200\n",
      " - 0s - loss: 0.4965 - acc: 0.7761 - val_loss: 0.5341 - val_acc: 0.7186\n",
      "Epoch 70/200\n",
      " - 0s - loss: 0.4964 - acc: 0.7854 - val_loss: 0.5355 - val_acc: 0.7273\n",
      "Epoch 71/200\n",
      " - 0s - loss: 0.4964 - acc: 0.7743 - val_loss: 0.5375 - val_acc: 0.7273\n",
      "Epoch 72/200\n",
      " - 0s - loss: 0.4942 - acc: 0.7836 - val_loss: 0.5348 - val_acc: 0.7229\n",
      "Epoch 73/200\n",
      " - 0s - loss: 0.4935 - acc: 0.7836 - val_loss: 0.5338 - val_acc: 0.7143\n",
      "Epoch 74/200\n",
      " - 0s - loss: 0.4928 - acc: 0.7854 - val_loss: 0.5359 - val_acc: 0.7229\n",
      "Epoch 75/200\n",
      " - 0s - loss: 0.4921 - acc: 0.7836 - val_loss: 0.5359 - val_acc: 0.7273\n",
      "Epoch 76/200\n",
      " - 0s - loss: 0.4915 - acc: 0.7836 - val_loss: 0.5360 - val_acc: 0.7273\n",
      "Epoch 77/200\n",
      " - 0s - loss: 0.4916 - acc: 0.7817 - val_loss: 0.5308 - val_acc: 0.7143\n",
      "Epoch 78/200\n",
      " - 0s - loss: 0.4898 - acc: 0.7836 - val_loss: 0.5392 - val_acc: 0.7403\n",
      "Epoch 79/200\n",
      " - 0s - loss: 0.4895 - acc: 0.7817 - val_loss: 0.5326 - val_acc: 0.7143\n",
      "Epoch 80/200\n",
      " - 0s - loss: 0.4891 - acc: 0.7817 - val_loss: 0.5350 - val_acc: 0.7229\n",
      "Epoch 81/200\n",
      " - 0s - loss: 0.4873 - acc: 0.7854 - val_loss: 0.5318 - val_acc: 0.7143\n",
      "Epoch 82/200\n",
      " - 0s - loss: 0.4881 - acc: 0.7799 - val_loss: 0.5346 - val_acc: 0.7229\n",
      "Epoch 83/200\n",
      " - 0s - loss: 0.4868 - acc: 0.7799 - val_loss: 0.5326 - val_acc: 0.7186\n",
      "Epoch 84/200\n",
      " - 0s - loss: 0.4869 - acc: 0.7761 - val_loss: 0.5327 - val_acc: 0.7186\n",
      "Epoch 85/200\n",
      " - 0s - loss: 0.4895 - acc: 0.7743 - val_loss: 0.5327 - val_acc: 0.7186\n",
      "Epoch 86/200\n",
      " - 0s - loss: 0.4851 - acc: 0.7761 - val_loss: 0.5319 - val_acc: 0.7186\n",
      "Epoch 87/200\n",
      " - 0s - loss: 0.4843 - acc: 0.7817 - val_loss: 0.5324 - val_acc: 0.7186\n",
      "Epoch 88/200\n",
      " - 0s - loss: 0.4838 - acc: 0.7799 - val_loss: 0.5309 - val_acc: 0.7186\n",
      "Epoch 89/200\n",
      " - 0s - loss: 0.4854 - acc: 0.7836 - val_loss: 0.5301 - val_acc: 0.7186\n",
      "Epoch 90/200\n",
      " - 0s - loss: 0.4833 - acc: 0.7817 - val_loss: 0.5339 - val_acc: 0.7186\n",
      "Epoch 91/200\n",
      " - 0s - loss: 0.4828 - acc: 0.7724 - val_loss: 0.5310 - val_acc: 0.7229\n",
      "Epoch 92/200\n",
      " - 0s - loss: 0.4820 - acc: 0.7873 - val_loss: 0.5348 - val_acc: 0.7359\n",
      "Epoch 93/200\n",
      " - 0s - loss: 0.4816 - acc: 0.7836 - val_loss: 0.5305 - val_acc: 0.7229\n"
     ]
    },
    {
     "name": "stdout",
     "output_type": "stream",
     "text": [
      "Epoch 94/200\n",
      " - 0s - loss: 0.4812 - acc: 0.7761 - val_loss: 0.5303 - val_acc: 0.7229\n",
      "Epoch 95/200\n",
      " - 0s - loss: 0.4795 - acc: 0.7743 - val_loss: 0.5333 - val_acc: 0.7273\n",
      "Epoch 96/200\n",
      " - 0s - loss: 0.4792 - acc: 0.7817 - val_loss: 0.5321 - val_acc: 0.7273\n",
      "Epoch 97/200\n",
      " - 0s - loss: 0.4795 - acc: 0.7780 - val_loss: 0.5300 - val_acc: 0.7229\n",
      "Epoch 98/200\n",
      " - 0s - loss: 0.4778 - acc: 0.7817 - val_loss: 0.5317 - val_acc: 0.7273\n",
      "Epoch 99/200\n",
      " - 0s - loss: 0.4780 - acc: 0.7780 - val_loss: 0.5315 - val_acc: 0.7273\n",
      "Epoch 100/200\n",
      " - 0s - loss: 0.4777 - acc: 0.7780 - val_loss: 0.5310 - val_acc: 0.7229\n",
      "Epoch 101/200\n",
      " - 0s - loss: 0.4779 - acc: 0.7780 - val_loss: 0.5319 - val_acc: 0.7359\n",
      "Epoch 102/200\n",
      " - 0s - loss: 0.4771 - acc: 0.7836 - val_loss: 0.5315 - val_acc: 0.7359\n",
      "Epoch 103/200\n",
      " - 0s - loss: 0.4771 - acc: 0.7799 - val_loss: 0.5281 - val_acc: 0.7273\n",
      "Epoch 104/200\n",
      " - 0s - loss: 0.4771 - acc: 0.7836 - val_loss: 0.5336 - val_acc: 0.7446\n",
      "Epoch 105/200\n",
      " - 0s - loss: 0.4780 - acc: 0.7780 - val_loss: 0.5285 - val_acc: 0.7273\n",
      "Epoch 106/200\n",
      " - 0s - loss: 0.4752 - acc: 0.7836 - val_loss: 0.5299 - val_acc: 0.7273\n",
      "Epoch 107/200\n",
      " - 0s - loss: 0.4766 - acc: 0.7873 - val_loss: 0.5291 - val_acc: 0.7316\n",
      "Epoch 108/200\n",
      " - 0s - loss: 0.4754 - acc: 0.7817 - val_loss: 0.5270 - val_acc: 0.7273\n",
      "Epoch 109/200\n",
      " - 0s - loss: 0.4740 - acc: 0.7799 - val_loss: 0.5297 - val_acc: 0.7359\n",
      "Epoch 110/200\n",
      " - 0s - loss: 0.4741 - acc: 0.7873 - val_loss: 0.5297 - val_acc: 0.7359\n",
      "Epoch 111/200\n",
      " - 0s - loss: 0.4733 - acc: 0.7761 - val_loss: 0.5281 - val_acc: 0.7273\n",
      "Epoch 112/200\n",
      " - 0s - loss: 0.4737 - acc: 0.7780 - val_loss: 0.5306 - val_acc: 0.7359\n",
      "Epoch 113/200\n",
      " - 0s - loss: 0.4741 - acc: 0.7780 - val_loss: 0.5284 - val_acc: 0.7359\n",
      "Epoch 114/200\n",
      " - 0s - loss: 0.4714 - acc: 0.7854 - val_loss: 0.5312 - val_acc: 0.7403\n",
      "Epoch 115/200\n",
      " - 0s - loss: 0.4718 - acc: 0.7873 - val_loss: 0.5303 - val_acc: 0.7359\n",
      "Epoch 116/200\n",
      " - 0s - loss: 0.4714 - acc: 0.7799 - val_loss: 0.5275 - val_acc: 0.7316\n",
      "Epoch 117/200\n",
      " - 0s - loss: 0.4716 - acc: 0.7873 - val_loss: 0.5271 - val_acc: 0.7316\n",
      "Epoch 118/200\n",
      " - 0s - loss: 0.4707 - acc: 0.7854 - val_loss: 0.5295 - val_acc: 0.7359\n",
      "Epoch 119/200\n",
      " - 0s - loss: 0.4718 - acc: 0.7799 - val_loss: 0.5303 - val_acc: 0.7359\n",
      "Epoch 120/200\n",
      " - 0s - loss: 0.4731 - acc: 0.7780 - val_loss: 0.5284 - val_acc: 0.7316\n",
      "Epoch 121/200\n",
      " - 0s - loss: 0.4712 - acc: 0.7873 - val_loss: 0.5302 - val_acc: 0.7359\n",
      "Epoch 122/200\n",
      " - 0s - loss: 0.4705 - acc: 0.7854 - val_loss: 0.5293 - val_acc: 0.7359\n",
      "Epoch 123/200\n",
      " - 0s - loss: 0.4693 - acc: 0.7854 - val_loss: 0.5284 - val_acc: 0.7316\n",
      "Epoch 124/200\n",
      " - 0s - loss: 0.4689 - acc: 0.7854 - val_loss: 0.5285 - val_acc: 0.7359\n",
      "Epoch 125/200\n",
      " - 0s - loss: 0.4690 - acc: 0.7836 - val_loss: 0.5288 - val_acc: 0.7359\n",
      "Epoch 126/200\n",
      " - 0s - loss: 0.4687 - acc: 0.7836 - val_loss: 0.5287 - val_acc: 0.7359\n",
      "Epoch 127/200\n",
      " - 0s - loss: 0.4693 - acc: 0.7892 - val_loss: 0.5286 - val_acc: 0.7359\n",
      "Epoch 128/200\n",
      " - 0s - loss: 0.4679 - acc: 0.7873 - val_loss: 0.5276 - val_acc: 0.7316\n",
      "Epoch 129/200\n",
      " - 0s - loss: 0.4679 - acc: 0.7854 - val_loss: 0.5276 - val_acc: 0.7316\n",
      "Epoch 130/200\n",
      " - 0s - loss: 0.4688 - acc: 0.7892 - val_loss: 0.5265 - val_acc: 0.7359\n",
      "Epoch 131/200\n",
      " - 0s - loss: 0.4681 - acc: 0.7836 - val_loss: 0.5301 - val_acc: 0.7359\n",
      "Epoch 132/200\n",
      " - 0s - loss: 0.4675 - acc: 0.7892 - val_loss: 0.5270 - val_acc: 0.7359\n",
      "Epoch 133/200\n",
      " - 0s - loss: 0.4681 - acc: 0.7724 - val_loss: 0.5275 - val_acc: 0.7403\n",
      "Epoch 134/200\n",
      " - 0s - loss: 0.4673 - acc: 0.7948 - val_loss: 0.5306 - val_acc: 0.7403\n",
      "Epoch 135/200\n",
      " - 0s - loss: 0.4670 - acc: 0.7892 - val_loss: 0.5285 - val_acc: 0.7403\n",
      "Epoch 136/200\n",
      " - 0s - loss: 0.4702 - acc: 0.7687 - val_loss: 0.5271 - val_acc: 0.7446\n",
      "Epoch 137/200\n",
      " - 0s - loss: 0.4664 - acc: 0.7854 - val_loss: 0.5293 - val_acc: 0.7359\n",
      "Epoch 138/200\n",
      " - 0s - loss: 0.4676 - acc: 0.7873 - val_loss: 0.5290 - val_acc: 0.7403\n",
      "Epoch 139/200\n",
      " - 0s - loss: 0.4657 - acc: 0.7873 - val_loss: 0.5287 - val_acc: 0.7403\n",
      "Epoch 140/200\n",
      " - 0s - loss: 0.4662 - acc: 0.7910 - val_loss: 0.5277 - val_acc: 0.7446\n",
      "Epoch 141/200\n",
      " - 0s - loss: 0.4661 - acc: 0.7854 - val_loss: 0.5274 - val_acc: 0.7446\n",
      "Epoch 142/200\n",
      " - 0s - loss: 0.4660 - acc: 0.7836 - val_loss: 0.5270 - val_acc: 0.7446\n",
      "Epoch 143/200\n",
      " - 0s - loss: 0.4664 - acc: 0.7873 - val_loss: 0.5304 - val_acc: 0.7403\n",
      "Epoch 144/200\n",
      " - 0s - loss: 0.4664 - acc: 0.7799 - val_loss: 0.5248 - val_acc: 0.7359\n",
      "Epoch 145/200\n",
      " - 0s - loss: 0.4644 - acc: 0.7836 - val_loss: 0.5304 - val_acc: 0.7403\n",
      "Epoch 146/200\n",
      " - 0s - loss: 0.4673 - acc: 0.7799 - val_loss: 0.5277 - val_acc: 0.7446\n",
      "Epoch 147/200\n",
      " - 0s - loss: 0.4648 - acc: 0.7910 - val_loss: 0.5297 - val_acc: 0.7403\n",
      "Epoch 148/200\n",
      " - 0s - loss: 0.4647 - acc: 0.7948 - val_loss: 0.5275 - val_acc: 0.7446\n",
      "Epoch 149/200\n",
      " - 0s - loss: 0.4652 - acc: 0.7873 - val_loss: 0.5282 - val_acc: 0.7446\n",
      "Epoch 150/200\n",
      " - 0s - loss: 0.4641 - acc: 0.7873 - val_loss: 0.5275 - val_acc: 0.7446\n",
      "Epoch 151/200\n",
      " - 0s - loss: 0.4641 - acc: 0.7854 - val_loss: 0.5270 - val_acc: 0.7446\n",
      "Epoch 152/200\n",
      " - 0s - loss: 0.4640 - acc: 0.7892 - val_loss: 0.5284 - val_acc: 0.7446\n",
      "Epoch 153/200\n",
      " - 0s - loss: 0.4641 - acc: 0.7854 - val_loss: 0.5264 - val_acc: 0.7403\n",
      "Epoch 154/200\n",
      " - 0s - loss: 0.4639 - acc: 0.7836 - val_loss: 0.5305 - val_acc: 0.7403\n",
      "Epoch 155/200\n",
      " - 0s - loss: 0.4645 - acc: 0.7910 - val_loss: 0.5272 - val_acc: 0.7446\n",
      "Epoch 156/200\n",
      " - 0s - loss: 0.4635 - acc: 0.7854 - val_loss: 0.5255 - val_acc: 0.7316\n",
      "Epoch 157/200\n",
      " - 0s - loss: 0.4635 - acc: 0.7836 - val_loss: 0.5283 - val_acc: 0.7446\n",
      "Epoch 158/200\n",
      " - 0s - loss: 0.4635 - acc: 0.7836 - val_loss: 0.5280 - val_acc: 0.7446\n",
      "Epoch 159/200\n",
      " - 0s - loss: 0.4626 - acc: 0.7892 - val_loss: 0.5283 - val_acc: 0.7446\n",
      "Epoch 160/200\n",
      " - 0s - loss: 0.4634 - acc: 0.7873 - val_loss: 0.5279 - val_acc: 0.7489\n",
      "Epoch 161/200\n",
      " - 0s - loss: 0.4645 - acc: 0.7761 - val_loss: 0.5263 - val_acc: 0.7403\n",
      "Epoch 162/200\n",
      " - 0s - loss: 0.4635 - acc: 0.7910 - val_loss: 0.5279 - val_acc: 0.7489\n",
      "Epoch 163/200\n",
      " - 0s - loss: 0.4647 - acc: 0.7743 - val_loss: 0.5264 - val_acc: 0.7403\n",
      "Epoch 164/200\n",
      " - 0s - loss: 0.4616 - acc: 0.7910 - val_loss: 0.5296 - val_acc: 0.7403\n",
      "Epoch 165/200\n",
      " - 0s - loss: 0.4623 - acc: 0.7910 - val_loss: 0.5269 - val_acc: 0.7446\n",
      "Epoch 166/200\n",
      " - 0s - loss: 0.4627 - acc: 0.7836 - val_loss: 0.5263 - val_acc: 0.7403\n",
      "Epoch 167/200\n",
      " - 0s - loss: 0.4646 - acc: 0.7929 - val_loss: 0.5296 - val_acc: 0.7446\n",
      "Epoch 168/200\n",
      " - 0s - loss: 0.4614 - acc: 0.7817 - val_loss: 0.5237 - val_acc: 0.7359\n",
      "Epoch 169/200\n",
      " - 0s - loss: 0.4625 - acc: 0.7836 - val_loss: 0.5275 - val_acc: 0.7446\n",
      "Epoch 170/200\n",
      " - 0s - loss: 0.4619 - acc: 0.7873 - val_loss: 0.5259 - val_acc: 0.7403\n",
      "Epoch 171/200\n",
      " - 0s - loss: 0.4614 - acc: 0.7836 - val_loss: 0.5266 - val_acc: 0.7446\n",
      "Epoch 172/200\n",
      " - 0s - loss: 0.4622 - acc: 0.7854 - val_loss: 0.5264 - val_acc: 0.7403\n",
      "Epoch 173/200\n",
      " - 0s - loss: 0.4624 - acc: 0.7910 - val_loss: 0.5281 - val_acc: 0.7446\n",
      "Epoch 174/200\n",
      " - 0s - loss: 0.4620 - acc: 0.7799 - val_loss: 0.5245 - val_acc: 0.7403\n",
      "Epoch 175/200\n",
      " - 0s - loss: 0.4616 - acc: 0.7892 - val_loss: 0.5276 - val_acc: 0.7489\n",
      "Epoch 176/200\n",
      " - 0s - loss: 0.4607 - acc: 0.7854 - val_loss: 0.5258 - val_acc: 0.7403\n",
      "Epoch 177/200\n",
      " - 0s - loss: 0.4641 - acc: 0.7799 - val_loss: 0.5243 - val_acc: 0.7403\n",
      "Epoch 178/200\n",
      " - 0s - loss: 0.4607 - acc: 0.7836 - val_loss: 0.5287 - val_acc: 0.7489\n",
      "Epoch 179/200\n",
      " - 0s - loss: 0.4617 - acc: 0.7929 - val_loss: 0.5251 - val_acc: 0.7403\n",
      "Epoch 180/200\n",
      " - 0s - loss: 0.4606 - acc: 0.7873 - val_loss: 0.5259 - val_acc: 0.7403\n",
      "Epoch 181/200\n",
      " - 0s - loss: 0.4609 - acc: 0.7892 - val_loss: 0.5249 - val_acc: 0.7403\n",
      "Epoch 182/200\n",
      " - 0s - loss: 0.4629 - acc: 0.7743 - val_loss: 0.5255 - val_acc: 0.7403\n",
      "Epoch 183/200\n",
      " - 0s - loss: 0.4608 - acc: 0.7929 - val_loss: 0.5287 - val_acc: 0.7532\n",
      "Epoch 184/200\n",
      " - 0s - loss: 0.4601 - acc: 0.7892 - val_loss: 0.5252 - val_acc: 0.7403\n",
      "Epoch 185/200\n",
      " - 0s - loss: 0.4603 - acc: 0.7817 - val_loss: 0.5247 - val_acc: 0.7403\n",
      "Epoch 186/200\n",
      " - 0s - loss: 0.4597 - acc: 0.7854 - val_loss: 0.5283 - val_acc: 0.7532\n",
      "Epoch 187/200\n",
      " - 0s - loss: 0.4616 - acc: 0.7836 - val_loss: 0.5260 - val_acc: 0.7446\n",
      "Epoch 188/200\n",
      " - 0s - loss: 0.4597 - acc: 0.7892 - val_loss: 0.5253 - val_acc: 0.7403\n",
      "Epoch 189/200\n",
      " - 0s - loss: 0.4604 - acc: 0.7910 - val_loss: 0.5258 - val_acc: 0.7446\n"
     ]
    },
    {
     "name": "stdout",
     "output_type": "stream",
     "text": [
      "Epoch 190/200\n",
      " - 0s - loss: 0.4655 - acc: 0.7743 - val_loss: 0.5247 - val_acc: 0.7403\n",
      "Epoch 191/200\n",
      " - 0s - loss: 0.4597 - acc: 0.7854 - val_loss: 0.5281 - val_acc: 0.7532\n",
      "Epoch 192/200\n",
      " - 0s - loss: 0.4594 - acc: 0.7892 - val_loss: 0.5247 - val_acc: 0.7403\n",
      "Epoch 193/200\n",
      " - 0s - loss: 0.4600 - acc: 0.7854 - val_loss: 0.5261 - val_acc: 0.7532\n",
      "Epoch 194/200\n",
      " - 0s - loss: 0.4595 - acc: 0.7892 - val_loss: 0.5262 - val_acc: 0.7532\n",
      "Epoch 195/200\n",
      " - 0s - loss: 0.4601 - acc: 0.7836 - val_loss: 0.5246 - val_acc: 0.7403\n",
      "Epoch 196/200\n",
      " - 0s - loss: 0.4591 - acc: 0.7892 - val_loss: 0.5256 - val_acc: 0.7446\n",
      "Epoch 197/200\n",
      " - 0s - loss: 0.4595 - acc: 0.7854 - val_loss: 0.5240 - val_acc: 0.7403\n",
      "Epoch 198/200\n",
      " - 0s - loss: 0.4586 - acc: 0.7836 - val_loss: 0.5249 - val_acc: 0.7403\n",
      "Epoch 199/200\n",
      " - 0s - loss: 0.4592 - acc: 0.7854 - val_loss: 0.5259 - val_acc: 0.7489\n",
      "Epoch 200/200\n",
      " - 0s - loss: 0.4589 - acc: 0.7836 - val_loss: 0.5244 - val_acc: 0.7403\n"
     ]
    }
   ],
   "source": [
    "history = model.fit(X_Train.to_numpy(),\n",
    "                    Y_Train.to_numpy(),\n",
    "                    epochs=200, batch_size=30,\n",
    "                    validation_data=(X_Test.to_numpy(), Y_Test.to_numpy()),\n",
    "                    verbose=2)"
   ]
  },
  {
   "cell_type": "markdown",
   "metadata": {},
   "source": [
    "# Accuracy"
   ]
  },
  {
   "cell_type": "code",
   "execution_count": 6,
   "metadata": {},
   "outputs": [
    {
     "data": {
      "image/png": "[encoded data removed]",
      "text/plain": [
       "<Figure size 432x288 with 1 Axes>"
      ]
     },
     "metadata": {
      "needs_background": "light"
     },
     "output_type": "display_data"
    }
   ],
   "source": [
    "plt.plot(history.history['acc'])\n",
    "plt.plot(history.history['val_acc'])\n",
    "plt.title('Model Accuracy')\n",
    "plt.ylabel('accuracy')\n",
    "plt.xlabel('epoch')\n",
    "plt.legend(['train', 'test'])\n",
    "plt.show()"
   ]
  },
  {
   "cell_type": "markdown",
   "metadata": {},
   "source": [
    "# Loss"
   ]
  },
  {
   "cell_type": "code",
   "execution_count": 7,
   "metadata": {
    "scrolled": true
   },
   "outputs": [
    {
     "data": {
      "image/png": "[encoded data removed]",
      "text/plain": [
       "<Figure size 432x288 with 1 Axes>"
      ]
     },
     "metadata": {
      "needs_background": "light"
     },
     "output_type": "display_data"
    }
   ],
   "source": [
    "# Model Losss\n",
    "plt.plot(history.history['loss'])\n",
    "plt.plot(history.history['val_loss'])\n",
    "plt.title('Model Loss')\n",
    "plt.ylabel('loss')\n",
    "plt.xlabel('epoch')\n",
    "plt.legend(['train', 'test'])\n",
    "plt.show()"
   ]
  },
  {
   "cell_type": "code",
   "execution_count": 8,
   "metadata": {},
   "outputs": [
    {
     "name": "stdout",
     "output_type": "stream",
     "text": [
      "acc: 74.03%\n"
     ]
    }
   ],
   "source": [
    "scores = model.evaluate(X_Test, Y_Test, verbose=0)\n",
    "print(\"%s: %.2f%%\" % (model.metrics_names[1], scores[1]*100))"
   ]
  },
  {
   "cell_type": "code",
   "execution_count": null,
   "metadata": {},
   "outputs": [],
   "source": []
  },
  {
   "cell_type": "code",
   "execution_count": null,
   "metadata": {},
   "outputs": [],
   "source": []
  }
 ],
 "metadata": {
  "kernelspec": {
   "display_name": "Python 3",
   "language": "python",
   "name": "python3"
  },
  "language_info": {
   "codemirror_mode": {
    "name": "ipython",
    "version": 3
   },
   "file_extension": ".py",
   "mimetype": "text/x-python",
   "name": "python",
   "nbconvert_exporter": "python",
   "pygments_lexer": "ipython3",
   "version": "3.7.1"
  }
 },
 "nbformat": 4,
 "nbformat_minor": 2
}
