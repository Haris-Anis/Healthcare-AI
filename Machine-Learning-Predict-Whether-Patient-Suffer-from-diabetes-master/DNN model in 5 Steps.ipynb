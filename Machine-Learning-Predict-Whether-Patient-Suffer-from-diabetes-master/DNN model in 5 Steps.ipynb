{
 "cells": [
  {
   "cell_type": "markdown",
   "metadata": {},
   "source": [
    "# DNN classifier"
   ]
  },
  {
   "cell_type": "markdown",
   "metadata": {},
   "source": [
    "# Step 1:"
   ]
  },
  {
   "cell_type": "markdown",
   "metadata": {},
   "source": [
    "### import Modules"
   ]
  },
  {
   "cell_type": "code",
   "execution_count": 1,
   "metadata": {},
   "outputs": [],
   "source": [
    "import tensorflow as tf\n",
    "\n",
    "import numpy as np\n",
    "import pandas as pd\n",
    "\n",
    "import matplotlib.pyplot as plt\n",
    "%matplotlib inline\n",
    "\n",
    "from sklearn.model_selection import train_test_split\n",
    "from sklearn.metrics import confusion_matrix,classification_report\n",
    "import scikitplot as skplt\n",
    "\n",
    "%matplotlib inline"
   ]
  },
  {
   "cell_type": "markdown",
   "metadata": {},
   "source": [
    "# Step 2: "
   ]
  },
  {
   "cell_type": "markdown",
   "metadata": {},
   "source": [
    "### Process Data"
   ]
  },
  {
   "cell_type": "code",
   "execution_count": 2,
   "metadata": {},
   "outputs": [],
   "source": [
    "def Data_Process():\n",
    "    \n",
    "    \"\"\"\n",
    "    This will read the CSV and Normalize the Data and\n",
    "    Perform Train Test Split and Return\n",
    "    X_Train, X_Test, Y_Train, Y_Test\n",
    "    \n",
    "    \"\"\"\n",
    "    # Name for the column  or Features Map\n",
    "    columns_to_named = [\"Pregnancies\",\"Glucose\",\"BloodPressure\",\n",
    "           \"SkinThickness\",\"Insulin\",\"BMI\",\"DiabetesPedigreeFunction\",\n",
    "           \"Age\",\"Class\"]\n",
    "    \n",
    "    # Read the Dataset and Rename the Column\n",
    "    df = pd.read_csv(\"diabetes.csv\",header=0,names=columns_to_named)\n",
    "\n",
    "    col_norm =['Pregnancies', 'Glucose', 'BloodPressure', 'SkinThickness', 'Insulin',\n",
    "       'BMI', 'DiabetesPedigreeFunction']\n",
    "    \n",
    "    # Normalization using Custom Lambda Function\n",
    "    \n",
    "    df1_norm = df[col_norm].apply(lambda x :( (x - x.min()) / (x.max()-x.min()) ) )\n",
    "    \n",
    "    X_Data = df1_norm\n",
    "    Y_Data = df[\"Class\"]\n",
    "    \n",
    "    X_Train, X_Test, Y_Train, Y_Test = train_test_split(X_Data,Y_Data, test_size=0.3,random_state=101)\n",
    "    \n",
    "    return X_Train, X_Test, Y_Train, Y_Test"
   ]
  },
  {
   "cell_type": "markdown",
   "metadata": {},
   "source": [
    "# Step 3:"
   ]
  },
  {
   "cell_type": "markdown",
   "metadata": {},
   "source": [
    "### create a feature column"
   ]
  },
  {
   "cell_type": "code",
   "execution_count": 3,
   "metadata": {},
   "outputs": [],
   "source": [
    "def create_feature_column():\n",
    "    \n",
    "    feat_Pregnancies = tf.feature_column.numeric_column('Pregnancies')\n",
    "    feat_Glucose = tf.feature_column.numeric_column('Glucose')\n",
    "    feat_BloodPressure = tf.feature_column.numeric_column('BloodPressure')\n",
    "    feat_SkinThickness_tricep = tf.feature_column.numeric_column('SkinThickness')\n",
    "    feat_Insulin = tf.feature_column.numeric_column('Insulin')\n",
    "    feat_BMI = tf.feature_column.numeric_column('BMI')\n",
    "    feat_DiabetesPedigreeFunction  = tf.feature_column.numeric_column('DiabetesPedigreeFunction')\n",
    "    \n",
    "    feature_column = [feat_Pregnancies, feat_Glucose, feat_BloodPressure, \n",
    "                  feat_SkinThickness_tricep, feat_Insulin, \n",
    "                 feat_BMI , feat_DiabetesPedigreeFunction] \n",
    "    \n",
    "    return feature_column"
   ]
  },
  {
   "cell_type": "code",
   "execution_count": 4,
   "metadata": {},
   "outputs": [],
   "source": [
    "X_Train, X_Test, Y_Train, Y_Test = Data_Process()\n",
    "feature_column = create_feature_column()\n",
    "\n",
    "\n",
    "input_func = tf.estimator.inputs.pandas_input_fn(X_Train, \n",
    "                                                 Y_Train,\n",
    "                                                 batch_size=50,\n",
    "                                                 num_epochs=1000,\n",
    "                                                 shuffle=True)\n",
    "\n",
    "eval_func = tf.estimator.inputs.pandas_input_fn(X_Test,\n",
    "                                               Y_Test,\n",
    "                                               batch_size=50,\n",
    "                                               num_epochs=1,\n",
    "                                               shuffle=False)\n",
    "predict_input_fn = tf.estimator.inputs.pandas_input_fn(\n",
    "      x=X_Test,\n",
    "      num_epochs=1,\n",
    "      shuffle=False)\n"
   ]
  },
  {
   "cell_type": "markdown",
   "metadata": {},
   "source": [
    "# Step 4"
   ]
  },
  {
   "cell_type": "markdown",
   "metadata": {},
   "source": [
    "### create a DNN model"
   ]
  },
  {
   "cell_type": "code",
   "execution_count": 5,
   "metadata": {},
   "outputs": [
    {
     "name": "stdout",
     "output_type": "stream",
     "text": [
      "INFO:tensorflow:Using default config.\n",
      "WARNING:tensorflow:Using temporary folder as model directory: C:\\Users\\Haris\\AppData\\Local\\Temp\\tmpj0yjjdgt\n",
      "INFO:tensorflow:Using config: {'_model_dir': 'C:\\\\Users\\\\Haris\\\\AppData\\\\Local\\\\Temp\\\\tmpj0yjjdgt', '_tf_random_seed': None, '_save_summary_steps': 100, '_save_checkpoints_steps': None, '_save_checkpoints_secs': 600, '_session_config': allow_soft_placement: true\n",
      "graph_options {\n",
      "  rewrite_options {\n",
      "    meta_optimizer_iterations: ONE\n",
      "  }\n",
      "}\n",
      ", '_keep_checkpoint_max': 5, '_keep_checkpoint_every_n_hours': 10000, '_log_step_count_steps': 100, '_train_distribute': None, '_device_fn': None, '_protocol': None, '_eval_distribute': None, '_experimental_distribute': None, '_service': None, '_cluster_spec': <tensorflow.python.training.server_lib.ClusterSpec object at 0x00000275C5FBEE48>, '_task_type': 'worker', '_task_id': 0, '_global_id_in_cluster': 0, '_master': '', '_evaluation_master': '', '_is_chief': True, '_num_ps_replicas': 0, '_num_worker_replicas': 1}\n"
     ]
    }
   ],
   "source": [
    "dnnmodel = tf.estimator.DNNClassifier(\n",
    "                                        hidden_units = [20,20],\n",
    "                                        feature_columns = feature_column,\n",
    "                                        n_classes=2,\n",
    "                                        activation_fn=tf.nn.softmax,\n",
    "                                        dropout=None,\n",
    "                                        optimizer = tf.train.AdamOptimizer(learning_rate=0.01)\n",
    "                                    )"
   ]
  },
  {
   "cell_type": "markdown",
   "metadata": {},
   "source": [
    "# Step 5:"
   ]
  },
  {
   "cell_type": "markdown",
   "metadata": {},
   "source": [
    "### Train"
   ]
  },
  {
   "cell_type": "code",
   "execution_count": 6,
   "metadata": {},
   "outputs": [
    {
     "name": "stdout",
     "output_type": "stream",
     "text": [
      "WARNING:tensorflow:From C:\\Users\\Haris\\Anaconda32\\lib\\site-packages\\tensorflow\\python\\framework\\op_def_library.py:263: colocate_with (from tensorflow.python.framework.ops) is deprecated and will be removed in a future version.\n",
      "Instructions for updating:\n",
      "Colocations handled automatically by placer.\n",
      "WARNING:tensorflow:From C:\\Users\\Haris\\Anaconda32\\lib\\site-packages\\tensorflow_estimator\\python\\estimator\\inputs\\queues\\feeding_queue_runner.py:62: QueueRunner.__init__ (from tensorflow.python.training.queue_runner_impl) is deprecated and will be removed in a future version.\n",
      "Instructions for updating:\n",
      "To construct input pipelines, use the `tf.data` module.\n",
      "WARNING:tensorflow:From C:\\Users\\Haris\\Anaconda32\\lib\\site-packages\\tensorflow_estimator\\python\\estimator\\inputs\\queues\\feeding_functions.py:500: add_queue_runner (from tensorflow.python.training.queue_runner_impl) is deprecated and will be removed in a future version.\n",
      "Instructions for updating:\n",
      "To construct input pipelines, use the `tf.data` module.\n",
      "INFO:tensorflow:Calling model_fn.\n",
      "WARNING:tensorflow:From C:\\Users\\Haris\\Anaconda32\\lib\\site-packages\\tensorflow\\python\\feature_column\\feature_column_v2.py:2703: to_float (from tensorflow.python.ops.math_ops) is deprecated and will be removed in a future version.\n",
      "Instructions for updating:\n",
      "Use tf.cast instead.\n",
      "INFO:tensorflow:Done calling model_fn.\n",
      "INFO:tensorflow:Create CheckpointSaverHook.\n",
      "INFO:tensorflow:Graph was finalized.\n",
      "INFO:tensorflow:Running local_init_op.\n",
      "INFO:tensorflow:Done running local_init_op.\n",
      "WARNING:tensorflow:From C:\\Users\\Haris\\Anaconda32\\lib\\site-packages\\tensorflow\\python\\training\\monitored_session.py:809: start_queue_runners (from tensorflow.python.training.queue_runner_impl) is deprecated and will be removed in a future version.\n",
      "Instructions for updating:\n",
      "To construct input pipelines, use the `tf.data` module.\n",
      "INFO:tensorflow:Saving checkpoints for 0 into C:\\Users\\Haris\\AppData\\Local\\Temp\\tmpj0yjjdgt\\model.ckpt.\n",
      "INFO:tensorflow:loss = 33.382355, step = 1\n",
      "INFO:tensorflow:global_step/sec: 178.38\n",
      "INFO:tensorflow:loss = 28.925665, step = 101 (0.561 sec)\n",
      "INFO:tensorflow:global_step/sec: 376.208\n",
      "INFO:tensorflow:loss = 23.1507, step = 201 (0.266 sec)\n",
      "INFO:tensorflow:global_step/sec: 344.356\n",
      "INFO:tensorflow:loss = 25.420555, step = 301 (0.290 sec)\n",
      "INFO:tensorflow:global_step/sec: 386.622\n",
      "INFO:tensorflow:loss = 23.10869, step = 401 (0.274 sec)\n",
      "INFO:tensorflow:Saving checkpoints for 500 into C:\\Users\\Haris\\AppData\\Local\\Temp\\tmpj0yjjdgt\\model.ckpt.\n",
      "INFO:tensorflow:Loss for final step: 29.483751.\n"
     ]
    }
   ],
   "source": [
    "history = dnnmodel.train(input_fn=input_func, \n",
    "               steps=500)"
   ]
  },
  {
   "cell_type": "markdown",
   "metadata": {},
   "source": [
    "### Test"
   ]
  },
  {
   "cell_type": "code",
   "execution_count": 7,
   "metadata": {
    "scrolled": true
   },
   "outputs": [
    {
     "name": "stdout",
     "output_type": "stream",
     "text": [
      "INFO:tensorflow:Calling model_fn.\n",
      "WARNING:tensorflow:From C:\\Users\\Haris\\Anaconda32\\lib\\site-packages\\tensorflow\\python\\ops\\metrics_impl.py:2002: div (from tensorflow.python.ops.math_ops) is deprecated and will be removed in a future version.\n",
      "Instructions for updating:\n",
      "Deprecated in favor of operator or tf.math.divide.\n",
      "WARNING:tensorflow:Trapezoidal rule is known to produce incorrect PR-AUCs; please switch to \"careful_interpolation\" instead.\n",
      "WARNING:tensorflow:Trapezoidal rule is known to produce incorrect PR-AUCs; please switch to \"careful_interpolation\" instead.\n",
      "INFO:tensorflow:Done calling model_fn.\n",
      "INFO:tensorflow:Starting evaluation at 2019-10-05T05:42:17Z\n",
      "INFO:tensorflow:Graph was finalized.\n",
      "WARNING:tensorflow:From C:\\Users\\Haris\\Anaconda32\\lib\\site-packages\\tensorflow\\python\\training\\saver.py:1266: checkpoint_exists (from tensorflow.python.training.checkpoint_management) is deprecated and will be removed in a future version.\n",
      "Instructions for updating:\n",
      "Use standard file APIs to check for files with this prefix.\n",
      "INFO:tensorflow:Restoring parameters from C:\\Users\\Haris\\AppData\\Local\\Temp\\tmpj0yjjdgt\\model.ckpt-500\n",
      "INFO:tensorflow:Running local_init_op.\n",
      "INFO:tensorflow:Done running local_init_op.\n",
      "INFO:tensorflow:Finished evaluation at 2019-10-05-05:42:18\n",
      "INFO:tensorflow:Saving dict for global step 500: accuracy = 0.7532467, accuracy_baseline = 0.64935064, auc = 0.8072016, auc_precision_recall = 0.69131327, average_loss = 0.50894135, global_step = 500, label/mean = 0.35064936, loss = 23.51309, precision = 0.6935484, prediction/mean = 0.3336273, recall = 0.5308642\n",
      "INFO:tensorflow:Saving 'checkpoint_path' summary for global step 500: C:\\Users\\Haris\\AppData\\Local\\Temp\\tmpj0yjjdgt\\model.ckpt-500\n"
     ]
    },
    {
     "data": {
      "text/plain": [
       "{'accuracy': 0.7532467,\n",
       " 'accuracy_baseline': 0.64935064,\n",
       " 'auc': 0.8072016,\n",
       " 'auc_precision_recall': 0.69131327,\n",
       " 'average_loss': 0.50894135,\n",
       " 'label/mean': 0.35064936,\n",
       " 'loss': 23.51309,\n",
       " 'precision': 0.6935484,\n",
       " 'prediction/mean': 0.3336273,\n",
       " 'recall': 0.5308642,\n",
       " 'global_step': 500}"
      ]
     },
     "execution_count": 7,
     "metadata": {},
     "output_type": "execute_result"
    }
   ],
   "source": [
    "dnnmodel.evaluate(eval_func)"
   ]
  },
  {
   "cell_type": "markdown",
   "metadata": {},
   "source": [
    "### Predict"
   ]
  },
  {
   "cell_type": "code",
   "execution_count": 8,
   "metadata": {},
   "outputs": [
    {
     "name": "stdout",
     "output_type": "stream",
     "text": [
      "INFO:tensorflow:Calling model_fn.\n",
      "INFO:tensorflow:Done calling model_fn.\n",
      "INFO:tensorflow:Graph was finalized.\n",
      "INFO:tensorflow:Restoring parameters from C:\\Users\\Haris\\AppData\\Local\\Temp\\tmpj0yjjdgt\\model.ckpt-500\n",
      "INFO:tensorflow:Running local_init_op.\n",
      "INFO:tensorflow:Done running local_init_op.\n"
     ]
    }
   ],
   "source": [
    "predictions = list(dnnmodel.predict(input_fn=predict_input_fn))\n",
    "prediction = [p[\"class_ids\"][0] for p in predictions]\n",
    "data = classification_report(Y_Test,prediction)\n",
    "conmat = confusion_matrix(Y_Test,prediction)"
   ]
  },
  {
   "cell_type": "markdown",
   "metadata": {},
   "source": [
    "### Analysis"
   ]
  },
  {
   "cell_type": "code",
   "execution_count": 9,
   "metadata": {},
   "outputs": [
    {
     "data": {
      "text/plain": [
       "<matplotlib.axes._subplots.AxesSubplot at 0x275d3e45c88>"
      ]
     },
     "execution_count": 9,
     "metadata": {},
     "output_type": "execute_result"
    },
    {
     "data": {
      "image/png": "[encoded data removed]",
      "text/plain": [
       "<Figure size 432x432 with 2 Axes>"
      ]
     },
     "metadata": {
      "needs_background": "light"
     },
     "output_type": "display_data"
    }
   ],
   "source": [
    "skplt.metrics.plot_confusion_matrix(Y_Test, \n",
    "                                    prediction,\n",
    "                                   figsize=(6,6),\n",
    "                                   title=\"Confusion Matrix\")"
   ]
  },
  {
   "cell_type": "code",
   "execution_count": 10,
   "metadata": {
    "scrolled": true
   },
   "outputs": [
    {
     "name": "stdout",
     "output_type": "stream",
     "text": [
      "              precision    recall  f1-score   support\n",
      "\n",
      "           0       0.78      0.87      0.82       150\n",
      "           1       0.69      0.53      0.60        81\n",
      "\n",
      "    accuracy                           0.75       231\n",
      "   macro avg       0.73      0.70      0.71       231\n",
      "weighted avg       0.75      0.75      0.74       231\n",
      "\n"
     ]
    }
   ],
   "source": [
    "print(data)"
   ]
  },
  {
   "cell_type": "code",
   "execution_count": null,
   "metadata": {},
   "outputs": [],
   "source": []
  }
 ],
 "metadata": {
  "kernelspec": {
   "display_name": "Python 3",
   "language": "python",
   "name": "python3"
  },
  "language_info": {
   "codemirror_mode": {
    "name": "ipython",
    "version": 3
   },
   "file_extension": ".py",
   "mimetype": "text/x-python",
   "name": "python",
   "nbconvert_exporter": "python",
   "pygments_lexer": "ipython3",
   "version": "3.7.1"
  }
 },
 "nbformat": 4,
 "nbformat_minor": 2
}
